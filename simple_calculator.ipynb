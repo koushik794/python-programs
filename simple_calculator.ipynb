{
  "nbformat": 4,
  "nbformat_minor": 0,
  "metadata": {
    "colab": {
      "provenance": []
    },
    "kernelspec": {
      "name": "python3",
      "display_name": "Python 3"
    },
    "language_info": {
      "name": "python"
    }
  },
  "cells": [
    {
      "cell_type": "markdown",
      "source": [
        "simple calculator"
      ],
      "metadata": {
        "id": "EaWPxN3PUoSy"
      }
    },
    {
      "cell_type": "code",
      "source": [
        "def add(x,y):\n",
        "  return x + y\n",
        "def subtract(x,y):\n",
        "  return x - y\n",
        "def multiply(x,y):\n",
        "  return x * y\n",
        "def divide(x,y):\n",
        "  if(y!=0):\n",
        "    return x/y\n",
        "  else:\n",
        "    return \"denominatior has zero\"\n",
        "def calculator():\n",
        "  print(\"simple calculatot\")\n",
        "  print(\"choose operation:\")\n",
        "  print(\"1.ADD\")\n",
        "  print(\"2.SUB\")\n",
        "  print(\"3.MULTI\")\n",
        "  print(\"4.DIVI\")\n",
        "\n",
        "  while True:\n",
        "    choice = input(\"enter choice(1/2/3/4):\")\n",
        "    if choice in ('1','2','3','4'):\n",
        "      num1 = float(input(\"enter first number:\"))\n",
        "      num2 = float(input(\"enter second number:\"))\n",
        "      if choice == '1':\n",
        "        print(f\"the result is:{add(num1,num2)}\")\n",
        "      elif choice == '2':\n",
        "        print(f\"the result is:{subtract(num1,num2)}\")\n",
        "      elif choice == '3':\n",
        "        print(f\"the result is :{multiply(num1,num2)}\")\n",
        "      elif choice == '4':\n",
        "        print(f\"the result is :{divide(num1,num2)}\")\n",
        "      next_calculation = input(\"let's do next calculation?(yes/no):\")\n",
        "      if next_calculation.lower() != \"yes\":\n",
        "            break\n",
        "\n",
        "      else:\n",
        "          print(\"invalid input\")\n",
        "calculator()"
      ],
      "metadata": {
        "colab": {
          "base_uri": "https://localhost:8080/"
        },
        "id": "dnwvMfhcZOTl",
        "outputId": "0b03ee91-4e88-48f5-90b6-f3a135215b21"
      },
      "execution_count": 32,
      "outputs": [
        {
          "name": "stdout",
          "output_type": "stream",
          "text": [
            "simple calculatot\n",
            "choose operation:\n",
            "1.ADD\n",
            "2.SUB\n",
            "3.MULTI\n",
            "4.DIVI\n",
            "enter choice(1/2/3/4):4\n",
            "enter first number:20\n",
            "enter second number:5\n",
            "the result is :4.0\n",
            "let's do next calculation?(yes/no):yes\n",
            "invalid input\n",
            "enter choice(1/2/3/4):2\n",
            "enter first number:1000000\n",
            "enter second number:9000\n",
            "the result is:991000.0\n",
            "let's do next calculation?(yes/no):no\n"
          ]
        }
      ]
    }
  ]
}